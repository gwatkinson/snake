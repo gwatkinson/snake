{
 "cells": [
  {
   "cell_type": "code",
   "execution_count": null,
   "metadata": {},
   "outputs": [],
   "source": [
    "import matplotlib.pyplot as plt\n",
    "import numpy as np\n",
    "import torch\n",
    "import torch.nn as nn\n",
    "from torch.nn import functional as F"
   ]
  },
  {
   "cell_type": "code",
   "execution_count": null,
   "metadata": {},
   "outputs": [],
   "source": [
    "n = 15\n",
    "board = np.zeros((n, n))\n",
    "board[n // 2, n // 2] = 1"
   ]
  },
  {
   "cell_type": "code",
   "execution_count": null,
   "metadata": {},
   "outputs": [],
   "source": [
    "print(board)"
   ]
  },
  {
   "cell_type": "markdown",
   "metadata": {},
   "source": [
    "Infos importante :\n",
    "\n",
    "* Serpent\n",
    "  * Tete -> (posX, posY, nouvelle_direction, (ancienne_direction))\n",
    "  * Queue -> (posX, posY, (direction))\n",
    "  * La direction du serpent par 1,2,3,4 pour droite, gauche, haut, bas (ou des tuples ?, ou one hot encoding ?)\n",
    "  * Faire une variable binaire pour la tête et la queue ? ou pour le corps ?\n",
    "* Pomme -> (posX, posY)\n",
    "  * Les pommes par -1\n",
    "  * Liste des cases dispo ? (pour povoir facilement créer une nouvelle pomme)\n",
    "  * Si la tête est sur la position de la pomme, la pomme est mangée, on n'actualise pas la queue, ce qui permet de faire un serpent plus long et on tire une position aléatoire dans la liste des cases dispo pour la nouvelle pomme\n",
    "  * On ajoute 1 à la longueur du serpent (qui pourra être utilisé pour le score)\n",
    "* Plateau -> array(tailleX, tailleY)\n",
    "  * Les cases vides sont représentées par 0\n",
    "  * Au déplacement, la tête se déplace en fonction de la direction d'entrée, il suffit de déplacer la tête (et donc d'update la position) de la direction de la position actuelle et de mettre la nouvelle direction dans la nouvelle case de la tête\n",
    "  * Pour la queue, il suffit d'update la position en fonction de la direction, puis de supprimer l'ancienne position de la queue (en mettant 0)\n",
    "* Réseau de neurones\n",
    "  * Ainsi l'input du réseau sera :\n",
    "    * Le serpent qui est un vecteur (posXTete, posYTete, posXQueue, posYQueue)\n",
    "    * La position de la pomme\n",
    "    * Le board des directions vectorisées\n",
    "  * Mettre un layer d'embedding des directions ?\n",
    "  * Faire un réseau standard avec plusieurs couches cachées\n",
    "  * L'output est un vecteur de taille 4 (droite, gauche, haut, bas)\n",
    "  * Suivi d'une fonction d'activation pour récuperer la direction finale\n",
    "* L'apprentissage\n",
    "  * Apprentissage par reinforcement learning\n",
    "  * Il faut donc simuler une partie pour pouvoir évaluer les performances du modèle\n",
    "  * On doit choisir la taille de la population\n",
    "  * Le score peut être la longueur totale du serpent\n",
    "  * Il est possible de pénaliser un peu la défaite si rencontre avec le mur ?\n",
    "* Alternative\n",
    "  * Possible de changer la nature du réseaux en utilisant un CNN 3D (2D pour le plateau, et 1D pour les directions, l'indicateur de la tête, le corps, la queue et la pomme)"
   ]
  }
 ],
 "metadata": {
  "interpreter": {
   "hash": "eec538e602f9557dc9662e6bc681b9823109cc6a965a6e8a365c0a2dd6a2372e"
  },
  "kernelspec": {
   "display_name": "Python 3.9.9 ('.venv': poetry)",
   "language": "python",
   "name": "python3"
  },
  "language_info": {
   "codemirror_mode": {
    "name": "ipython",
    "version": 3
   },
   "file_extension": ".py",
   "mimetype": "text/x-python",
   "name": "python",
   "nbconvert_exporter": "python",
   "pygments_lexer": "ipython3",
   "version": "3.9.9"
  }
 },
 "nbformat": 4,
 "nbformat_minor": 2
}
